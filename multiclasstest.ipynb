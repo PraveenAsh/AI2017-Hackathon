{
 "cells": [
  {
   "cell_type": "code",
   "execution_count": 9,
   "metadata": {},
   "outputs": [],
   "source": [
    "from keras.preprocessing import image\n",
    "from keras.models import load_model\n",
    "from keras.preprocessing.image import ImageDataGenerator\n",
    "from PIL import Image,ImageDraw\n",
    "from keras.models import Sequential\n",
    "from keras.layers import Conv2D, MaxPooling2D\n",
    "from keras.layers import Activation, Dropout, Flatten, Dense\n",
    "from keras import backend as K\n",
    "import matplotlib.pyplot as plt\n",
    "#import os\n",
    "#import shutil\n",
    "import numpy as np\n",
    "#import random\n",
    "#from sklearn.model_selection import train_test_split\n",
    "from keras.preprocessing.image import load_img\n",
    "#from keras.applications.vgg16 import preprocess_input,VGG16\n",
    "import cv2\n",
    "\n",
    "#from keras.applications.vgg19 import VGG19\n",
    "from keras.preprocessing import image\n",
    "#from keras.applications.vgg19 import preprocess_input\n",
    "from keras.models import Model\n",
    "\n",
    "#from sklearn.metrics import precision_recall_fscore_support\n",
    "from keras import backend as K"
   ]
  },
  {
   "cell_type": "code",
   "execution_count": 10,
   "metadata": {},
   "outputs": [],
   "source": [
    "labels=[\"aeroplane\",\"bicycle\",\"bird\",\"boat\",\"bottle\",\"bus\",\"car\",\"cat\",\"chair\",\"cow\",\"diningtable\",\"dog\",\"horse\",\"motorbike\",\"person\",\"pottedplant\",\"sheep\",\"sofa\",\"train\",\"tvmonitor\"]"
   ]
  },
  {
   "cell_type": "code",
   "execution_count": 11,
   "metadata": {},
   "outputs": [],
   "source": [
    "imgPath = \"C:/Users/Parashara Ramesh/Desktop/PESU/AI/hackathon/images/VOCdevkit/VOC2010/jpeg1/\"\n",
    "imgPath2 = \"C:/Users/Parashara Ramesh/Desktop/PESU/AI/hackathon/images/VOCdevkit/VOC2010/JPEGImages/\"\n",
    "imagewidth=500\n",
    "imageheight=500\n",
    "\n",
    "\n"
   ]
  },
  {
   "cell_type": "code",
   "execution_count": 12,
   "metadata": {},
   "outputs": [],
   "source": [
    "def predictclass(imgname):\n",
    "    imgdim=150\n",
    "    model = load_model('my_model.h5')#classifymodelwithonly5096\n",
    "    img = Image.open(imgPath2+imgname+\".jpg\")\n",
    "    resizeimg = img.resize((imgdim,imgdim), Image.NEAREST) \n",
    "    data = np.asarray(resizeimg)\n",
    "    temp=[]\n",
    "    temp.append(data)\n",
    "    temp=np.asarray(temp)\n",
    "    score = model.predict(temp)\n",
    "    onehot=[]\n",
    "    for x in np.nditer(score):\n",
    "        onehot.append(x)\n",
    "    #for i in range(20):\n",
    "        #print(labels[i]+\"=\"+str(onehot[i]))\n",
    "    return labels[np.argmax(onehot)]\n",
    "    "
   ]
  },
  {
   "cell_type": "code",
   "execution_count": 13,
   "metadata": {},
   "outputs": [],
   "source": [
    "def predictbox(classname,imgname):\n",
    "    model = load_model(classname+\"detect.h5\")#\n",
    "    img = Image.open(imgPath+imgname+\".jpg\") \n",
    "    data = np.asarray(img)\n",
    "    temp=[]\n",
    "    temp.append(data)\n",
    "    temp=np.asarray(temp)\n",
    "    score = model.predict(temp)\n",
    "    points=[]\n",
    "    for x in np.nditer(score):\n",
    "        points.append(x)\n",
    "    print(\"calculated bbox coordinates\")\n",
    "    return points"
   ]
  },
  {
   "cell_type": "code",
   "execution_count": 14,
   "metadata": {},
   "outputs": [],
   "source": [
    "def setCordinates(img,x1,y1,x2,y2,text):\n",
    "    cv2.rectangle(img,(x1,y1),(x2,y2),(0,255,0),1)\n",
    "    bottomLeftCornerOfText = (x1,(y1-4))\n",
    "    fontScale              = .5\n",
    "    fontColor              = (255,0,0)\n",
    "    cv2.putText(img, text , bottomLeftCornerOfText, cv2.FONT_HERSHEY_SIMPLEX, fontScale, fontColor)"
   ]
  },
  {
   "cell_type": "code",
   "execution_count": 15,
   "metadata": {},
   "outputs": [],
   "source": [
    "def main():\n",
    "    points=[]\n",
    "    imgname=input(\"enter the name of the image \")\n",
    "    classname=predictclass(imgname)\n",
    "    print(\"class is =\",classname)\n",
    "    points=predictbox(classname,imgname)\n",
    "    print(\"got the coordinates going to draw box now\")\n",
    "    print(points)\n",
    "    print(imgPath+imgname+\".jpg\")\n",
    "    img = cv2.imread(imgPath+imgname+\".jpg\")\n",
    "    setCordinates(img,int(points[0]),int(points[1]),int(points[2]),int(points[3]),classname)\n",
    "    cv2.waitKey(0)\n",
    "    cv2.imwrite('C:/Users/Parashara Ramesh/Desktop/bboxtest'+imgname+'.jpg',img)\n",
    "    print(\"finished drawing!\")\n",
    "    \n"
   ]
  },
  {
   "cell_type": "code",
   "execution_count": 16,
   "metadata": {},
   "outputs": [
    {
     "name": "stdout",
     "output_type": "stream",
     "text": [
      "enter the name of the image 2010_006535\n",
      "class is = person\n",
      "calculated bbox coordinates\n",
      "got the coordinates going to draw box now\n",
      "[array(93.40461730957031, dtype=float32), array(57.52193832397461, dtype=float32), array(311.4511413574219, dtype=float32), array(404.67889404296875, dtype=float32)]\n",
      "C:/Users/Parashara Ramesh/Desktop/PESU/AI/hackathon/images/VOCdevkit/VOC2010/jpeg1/2010_006535.jpg\n",
      "finished drawing!\n"
     ]
    }
   ],
   "source": [
    "main()"
   ]
  },
  {
   "cell_type": "code",
   "execution_count": null,
   "metadata": {},
   "outputs": [],
   "source": []
  }
 ],
 "metadata": {
  "kernelspec": {
   "display_name": "Python 3",
   "language": "python",
   "name": "python3"
  },
  "language_info": {
   "codemirror_mode": {
    "name": "ipython",
    "version": 3
   },
   "file_extension": ".py",
   "mimetype": "text/x-python",
   "name": "python",
   "nbconvert_exporter": "python",
   "pygments_lexer": "ipython3",
   "version": "3.6.3"
  }
 },
 "nbformat": 4,
 "nbformat_minor": 2
}
