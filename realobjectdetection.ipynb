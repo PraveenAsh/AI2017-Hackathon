{
 "cells": [
  {
   "cell_type": "code",
   "execution_count": 11,
   "metadata": {},
   "outputs": [],
   "source": [
    "# coding: utf-8\n",
    "import tensorflow as tf\n",
    "import xml.etree.ElementTree as ET\n",
    "from keras.preprocessing import image\n",
    "from keras.preprocessing.image import ImageDataGenerator\n",
    "from PIL import Image,ImageOps\n",
    "from keras.models import Sequential\n",
    "from keras.layers import Conv2D, MaxPooling2D\n",
    "from keras.layers import Activation, Dropout, Flatten, Dense\n",
    "from keras import backend as K\n",
    "import os\n",
    "import numpy as np\n",
    "import random\n",
    "from sklearn.model_selection import train_test_split\n",
    "from keras.preprocessing.image import load_img\n",
    "#from keras.applications.vgg16 import preprocess_input,VGG16\n",
    "\n",
    "#from keras.applications.vgg19 import VGG19\n",
    "from keras.preprocessing import image\n",
    "#from keras.applications.vgg19 import preprocess_input\n",
    "from keras.models import Model\n",
    "#from sklearn.metrics import precision_recall_fscore_support\n",
    "from keras import backend as K\n",
    "\n"
   ]
  },
  {
   "cell_type": "code",
   "execution_count": 12,
   "metadata": {},
   "outputs": [],
   "source": [
    "config=tf.ConfigProto()\n",
    "config.gpu_options.allow_growth=True\n",
    "sess=tf.Session(config=config)"
   ]
  },
  {
   "cell_type": "code",
   "execution_count": 13,
   "metadata": {},
   "outputs": [],
   "source": [
    "mainPath = \"C:/Users/Parashara Ramesh/Desktop/PESU/AI/hackathon/images/VOCdevkit/VOC2010/annots1/\"\n",
    "imgPath = \"C:/Users/Parashara Ramesh/Desktop/PESU/AI/hackathon/images/VOCdevkit/VOC2010/jpeg1/\"\n",
    "\n",
    "labels=[\"aeroplane\",\"bicycle\",\"bird\",\"boat\",\"bottle\",\"bus\",\"car\",\"cat\",\"chair\",\"cow\",\"diningtable\",\"dog\",\"horse\",\"motorbike\",\"person\",\"pottedplant\",\"sheep\",\"sofa\",\"train\",\"tvmonitor\"]\n",
    "\n",
    "ytrain=[]\n",
    "xtrain=[]\n",
    "subset=[]\n",
    "\n",
    "imagewidth=500\n",
    "imageheight=500\n",
    "input_shape = (imageheight, imagewidth, 3)\n",
    "xtrain=[]\n",
    "ytrain = []\n",
    "img=[]"
   ]
  },
  {
   "cell_type": "code",
   "execution_count": 14,
   "metadata": {},
   "outputs": [
    {
     "name": "stdout",
     "output_type": "stream",
     "text": [
      "done ytrain\n",
      "(903, 4)\n",
      "903\n"
     ]
    }
   ],
   "source": [
    "def createYtrain():\n",
    "    dirs = os.listdir(mainPath)\n",
    "    for item in dirs:\n",
    "        if os.path.isfile(mainPath + item):\n",
    "            e = ET.parse(mainPath + item)\n",
    "            root = e.getroot()\n",
    "            obj = root.findall('object')\n",
    "            bnd_box = []\n",
    "            for k in obj:\n",
    "                if(k[0].text=='person'):\n",
    "                    img.append(item)\n",
    "                    bnd = k.find('bndbox')\n",
    "                    bnd_box.append(int(bnd[0].text)-1)\n",
    "                    bnd_box.append(int(bnd[1].text)-1)\n",
    "                    bnd_box.append(int(bnd[2].text)-1)\n",
    "                    bnd_box.append(int(bnd[3].text)-1)\n",
    "                    ytrain.append(bnd_box)\n",
    "\n",
    "createYtrain()\n",
    "ytrain = np.asarray(ytrain)\n",
    "print(\"done ytrain\")\n",
    "print(ytrain.shape)\n",
    "print(len(img))\n",
    "\n",
    "# In[4]:\n",
    "\n"
   ]
  },
  {
   "cell_type": "code",
   "execution_count": 15,
   "metadata": {},
   "outputs": [
    {
     "name": "stdout",
     "output_type": "stream",
     "text": [
      "done xtrain\n",
      "(903, 500, 500, 3)\n",
      "converted to numpy array\n"
     ]
    }
   ],
   "source": [
    "\n",
    "def createXtrain():\n",
    "    dirs = os.listdir(imgPath)\n",
    "    for item in img:\n",
    "        image = Image.open(imgPath+item[:-4]+\".jpg\")\n",
    "        data = np.asarray(image)\n",
    "        xtrain.append(data)\n",
    "createXtrain()\n",
    "xtrain = np.asarray(xtrain)\n",
    "print(\"done xtrain\")\n",
    "print(xtrain.shape)\n",
    "\n",
    "\n",
    "\n",
    "print(\"converted to numpy array\")\n"
   ]
  },
  {
   "cell_type": "code",
   "execution_count": 16,
   "metadata": {},
   "outputs": [
    {
     "name": "stdout",
     "output_type": "stream",
     "text": [
      "created test and train data\n"
     ]
    }
   ],
   "source": [
    "def createTrainandTest():\n",
    "    x_train, x_test, y_train, y_test = train_test_split(xtrain, ytrain, test_size=0.20, random_state=42)\n",
    "    return x_train,x_test,y_train,y_test\n",
    "x_train,x_test,y_train,y_test=createTrainandTest()\n",
    "print(\"created test and train data\")\n",
    "\n",
    "\n",
    "\n"
   ]
  },
  {
   "cell_type": "code",
   "execution_count": 17,
   "metadata": {},
   "outputs": [],
   "source": [
    "def baseline_model():\n",
    "    print(\"creating model\")\n",
    "    model = Sequential()\n",
    "    #model.add(Conv2D(64,(3,3),input_shape = input_shape,padding='same'))\n",
    "    #model.add(Activation('relu'))\n",
    "    #model.add(MaxPooling2D(pool_size = (2,2)))\n",
    "    model.add(Conv2D(32,(3,3),input_shape = input_shape))\n",
    "    model.add(Activation('relu'))\n",
    "    model.add(MaxPooling2D(pool_size = (2,2)))\n",
    "    #one more cnn layer\n",
    "    model.add(Conv2D(32,(3,3),input_shape = input_shape))\n",
    "    model.add(Activation('relu'))\n",
    "    model.add(MaxPooling2D(pool_size = (2,2)))\n",
    "    #one more cnn layer\n",
    "    model.add(Flatten())\n",
    "    model.add(Dense(64)) #output layer is 1 i smy assumption\n",
    "    model.add(Activation('relu'))\n",
    "    model.add(Dense(16)) #output layer is 1 i smy assumption\n",
    "#model.add(Activation('relu'))\n",
    "    model.add(Dense(8)) #output layer is 1 i smy assumption\n",
    "    model.add(Activation('relu'))\n",
    "    #model.add(Flatten())\n",
    "    model.add(Dense(4, kernel_initializer='normal'))\n",
    "    model.add(Activation('linear'))\n",
    "    model.compile(loss='mean_squared_error', optimizer='adam',metrics=['accuracy'])\n",
    "    print(\"done bro!\")\n",
    "    print(model.summary())\n",
    "    return model\n",
    "\n",
    "\n"
   ]
  },
  {
   "cell_type": "code",
   "execution_count": 18,
   "metadata": {
    "scrolled": false
   },
   "outputs": [
    {
     "name": "stdout",
     "output_type": "stream",
     "text": [
      "creating model\n",
      "done bro!\n",
      "_________________________________________________________________\n",
      "Layer (type)                 Output Shape              Param #   \n",
      "=================================================================\n",
      "conv2d_3 (Conv2D)            (None, 498, 498, 32)      896       \n",
      "_________________________________________________________________\n",
      "activation_6 (Activation)    (None, 498, 498, 32)      0         \n",
      "_________________________________________________________________\n",
      "max_pooling2d_3 (MaxPooling2 (None, 249, 249, 32)      0         \n",
      "_________________________________________________________________\n",
      "conv2d_4 (Conv2D)            (None, 247, 247, 32)      9248      \n",
      "_________________________________________________________________\n",
      "activation_7 (Activation)    (None, 247, 247, 32)      0         \n",
      "_________________________________________________________________\n",
      "max_pooling2d_4 (MaxPooling2 (None, 123, 123, 32)      0         \n",
      "_________________________________________________________________\n",
      "flatten_2 (Flatten)          (None, 484128)            0         \n",
      "_________________________________________________________________\n",
      "dense_5 (Dense)              (None, 64)                30984256  \n",
      "_________________________________________________________________\n",
      "activation_8 (Activation)    (None, 64)                0         \n",
      "_________________________________________________________________\n",
      "dense_6 (Dense)              (None, 16)                1040      \n",
      "_________________________________________________________________\n",
      "dense_7 (Dense)              (None, 8)                 136       \n",
      "_________________________________________________________________\n",
      "activation_9 (Activation)    (None, 8)                 0         \n",
      "_________________________________________________________________\n",
      "dense_8 (Dense)              (None, 4)                 36        \n",
      "_________________________________________________________________\n",
      "activation_10 (Activation)   (None, 4)                 0         \n",
      "=================================================================\n",
      "Total params: 30,995,612\n",
      "Trainable params: 30,995,612\n",
      "Non-trainable params: 0\n",
      "_________________________________________________________________\n",
      "None\n"
     ]
    }
   ],
   "source": [
    "model = baseline_model()\n",
    "\n",
    "\n",
    "\n"
   ]
  },
  {
   "cell_type": "code",
   "execution_count": 19,
   "metadata": {},
   "outputs": [
    {
     "name": "stdout",
     "output_type": "stream",
     "text": [
      "Epoch 1/18\n",
      "903/903 [==============================] - 32s - loss: 24411.7289 - acc: 0.4839    \n",
      "Epoch 2/18\n",
      "903/903 [==============================] - 31s - loss: 17540.8974 - acc: 0.5017    \n",
      "Epoch 3/18\n",
      "903/903 [==============================] - 31s - loss: 12600.2894 - acc: 0.5559    \n",
      "Epoch 4/18\n",
      "903/903 [==============================] - 31s - loss: 8623.0540 - acc: 0.7032    \n",
      "Epoch 5/18\n",
      "903/903 [==============================] - 31s - loss: 5587.1483 - acc: 0.7962    \n",
      "Epoch 6/18\n",
      "903/903 [==============================] - 31s - loss: 3773.4630 - acc: 0.8571    \n",
      "Epoch 7/18\n",
      "903/903 [==============================] - 32s - loss: 2625.1040 - acc: 0.8704    \n",
      "Epoch 8/18\n",
      "903/903 [==============================] - 32s - loss: 1948.1698 - acc: 0.8915    \n",
      "Epoch 9/18\n",
      "903/903 [==============================] - 32s - loss: 1658.1908 - acc: 0.8915    \n",
      "Epoch 10/18\n",
      "903/903 [==============================] - 31s - loss: 1571.3171 - acc: 0.8882    \n",
      "Epoch 11/18\n",
      "903/903 [==============================] - 31s - loss: 1434.5873 - acc: 0.8893    \n",
      "Epoch 12/18\n",
      "903/903 [==============================] - 32s - loss: 1333.5222 - acc: 0.8704    \n",
      "Epoch 13/18\n",
      "903/903 [==============================] - 32s - loss: 1333.0553 - acc: 0.8915    \n",
      "Epoch 14/18\n",
      "903/903 [==============================] - 33s - loss: 1320.8624 - acc: 0.8793    \n",
      "Epoch 15/18\n",
      "903/903 [==============================] - 33s - loss: 1258.7560 - acc: 0.8771    \n",
      "Epoch 16/18\n",
      "903/903 [==============================] - 33s - loss: 1223.6809 - acc: 0.8870    \n",
      "Epoch 17/18\n",
      "903/903 [==============================] - 33s - loss: 1139.9450 - acc: 0.8937    \n",
      "Epoch 18/18\n",
      "903/903 [==============================] - 33s - loss: 1124.0787 - acc: 0.8904    \n"
     ]
    },
    {
     "data": {
      "text/plain": [
       "<keras.callbacks.History at 0x277800e1898>"
      ]
     },
     "execution_count": 19,
     "metadata": {},
     "output_type": "execute_result"
    }
   ],
   "source": [
    "model.fit(xtrain,ytrain,epochs=18, batch_size=8)"
   ]
  },
  {
   "cell_type": "code",
   "execution_count": 20,
   "metadata": {},
   "outputs": [
    {
     "name": "stdout",
     "output_type": "stream",
     "text": [
      "finished saving now try testing!\n"
     ]
    }
   ],
   "source": [
    "model.save('persondetect.h5')  # creates a HDF5 file 'my_model.h5'\n",
    "del model  # deletes the existing model\n",
    "\n",
    "print(\"finished saving now try testing!\")\n"
   ]
  },
  {
   "cell_type": "code",
   "execution_count": null,
   "metadata": {
    "collapsed": true
   },
   "outputs": [],
   "source": []
  },
  {
   "cell_type": "code",
   "execution_count": null,
   "metadata": {
    "collapsed": true
   },
   "outputs": [],
   "source": []
  },
  {
   "cell_type": "code",
   "execution_count": null,
   "metadata": {
    "collapsed": true
   },
   "outputs": [],
   "source": []
  },
  {
   "cell_type": "code",
   "execution_count": null,
   "metadata": {
    "collapsed": true
   },
   "outputs": [],
   "source": []
  },
  {
   "cell_type": "code",
   "execution_count": null,
   "metadata": {
    "collapsed": true
   },
   "outputs": [],
   "source": []
  },
  {
   "cell_type": "code",
   "execution_count": null,
   "metadata": {
    "collapsed": true
   },
   "outputs": [],
   "source": []
  }
 ],
 "metadata": {
  "kernelspec": {
   "display_name": "Python 3",
   "language": "python",
   "name": "python3"
  },
  "language_info": {
   "codemirror_mode": {
    "name": "ipython",
    "version": 3
   },
   "file_extension": ".py",
   "mimetype": "text/x-python",
   "name": "python",
   "nbconvert_exporter": "python",
   "pygments_lexer": "ipython3",
   "version": "3.6.3"
  }
 },
 "nbformat": 4,
 "nbformat_minor": 2
}
